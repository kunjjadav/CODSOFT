{
 "cells": [
  {
   "cell_type": "code",
   "execution_count": 1,
   "id": "d85280e1-9f2d-4175-87fe-14070ef51b5a",
   "metadata": {},
   "outputs": [],
   "source": [
    "import requests\n",
    "import re\n",
    "from newsapi import NewsApiClient\n",
    "import random"
   ]
  },
  {
   "cell_type": "code",
   "execution_count": 2,
   "id": "e1b442fa-13e4-427b-9312-92ccbffb162a",
   "metadata": {},
   "outputs": [],
   "source": [
    "# while True:\n",
    "#     user_input = input(\"You: \").lower()\n",
    "#     if user_input == \"hello\":\n",
    "#         print(\"chatbot: Hello\")\n",
    "#     elif user_input == \"bye\":\n",
    "#         print(\"chatbot: Bye\")\n",
    "#         break\n",
    "#     else:\n",
    "#         print(\"chatbot: I don't understand\")"
   ]
  },
  {
   "cell_type": "code",
   "execution_count": 3,
   "id": "8d1482a0-9a21-4ac4-87be-d4bee7e5c6c4",
   "metadata": {},
   "outputs": [],
   "source": [
    "# responses = {\n",
    "#     \"hello\": \"Hi there!\",\n",
    "#     \"bye\": \"See you soon!\",\n",
    "#     \"how are you\": \"I'm just a bot, but I'm doing fine!\"\n",
    "# }\n",
    "\n",
    "# while True:\n",
    "#     user_input = input(\"You: \").lower()\n",
    "    \n",
    "#     response = responses.get(user_input, \"I don't understand.\")\n",
    "#     print(f\"ChatBot: {response}\")\n",
    "#     pattern = re.compile(r\"\\b[aeiouAEIOU]\\w*\")\n",
    "#     matches = pattern.finditer(user_input)\n",
    "#     for match in matches:\n",
    "#         print(match.group())\n",
    "#     if(user_input == \"bye\"):\n",
    "#         break\n",
    "    \n"
   ]
  },
  {
   "cell_type": "code",
   "execution_count": 4,
   "id": "bd973573-a7ed-41f5-963e-d6c87f17a36c",
   "metadata": {},
   "outputs": [],
   "source": [
    "\n",
    "# responses = {\n",
    "#     \"hello\": \"Hi there!\",\n",
    "#     \"bye\": \"See you soon!\",\n",
    "#     \"how are you\": \"I'm doing fine!\",\n",
    "#     \"weather\": \"It's rainy outside, so bring an umbrella.\",\n",
    "#     \"news\": \"Latest news: A storm is coming in India.\"\n",
    "# }\n",
    "\n",
    "# def handle_task(user_input):\n",
    "#     if re.search(r'\\bweather\\b', user_input):\n",
    "#         return \"weather\"\n",
    "#     elif re.search(r'\\bnews\\b', user_input):\n",
    "#         return \"news\"\n",
    "#     elif re.search(r'\\bhello\\b', user_input):\n",
    "#         return \"hello\"\n",
    "#     elif re.search(r'\\bbye\\b', user_input):\n",
    "#         return \"bye\"\n",
    "#     elif re.search(r'\\bhow are you\\b', user_input):\n",
    "#         return \"how are you\"\n",
    "#     else:\n",
    "#         return None\n",
    "\n",
    "# while True:\n",
    "#     user_input = input(\"You: \").lower()\n",
    "\n",
    "#     task = handle_task(user_input)\n",
    "\n",
    "#     if task in responses:\n",
    "#         print(f\"Chatbot: {responses[task]}\")\n",
    "#     else:\n",
    "#         print(\"Chatbot: I don't understand.\")\n",
    "\n",
    "#     if task == \"bye\":\n",
    "#         break\n"
   ]
  },
  {
   "cell_type": "code",
   "execution_count": null,
   "id": "68eb1438-e8b8-426e-a348-81484dd98d84",
   "metadata": {},
   "outputs": [],
   "source": []
  },
  {
   "cell_type": "code",
   "execution_count": 5,
   "id": "06dba344-eadb-4701-89d8-167871f73fc2",
   "metadata": {},
   "outputs": [],
   "source": [
    "api_key = '54bdf54bcd34d7ae7e8c60c204188796'\n",
    "city_id = \"1278685\" \n",
    "newsapi = NewsApiClient(api_key='8ea5a70f6001495fbc002cef25faf284')"
   ]
  },
  {
   "cell_type": "code",
   "execution_count": 6,
   "id": "aa720cd9-e48d-4729-8939-5c7ac8a06874",
   "metadata": {},
   "outputs": [],
   "source": [
    "responses = {\n",
    "    \"hello\": \"Hi there!\",\n",
    "    \"hi\":\"Hello there!\",\n",
    "    \"bye\": \"See you soon!\",\n",
    "    \"how are you\": \"I'm doing fine!\"\n",
    "}"
   ]
  },
  {
   "cell_type": "code",
   "execution_count": 7,
   "id": "62510e65-d0a6-44e2-9f3d-e755c6455604",
   "metadata": {},
   "outputs": [],
   "source": [
    "def get_weather_data(api_key, city_id):\n",
    "    api_url = \"http://api.openweathermap.org/data/2.5/weather\"\n",
    "    params = {\n",
    "        \"id\": city_id,\n",
    "        \"units\": \"metric\",\n",
    "        \"appid\": api_key\n",
    "    }\n",
    "    response = requests.get(api_url, params=params)\n",
    "    if response.status_code == 200:\n",
    "        data = response.json()\n",
    "        if 'weather' in data and 'main' in data:\n",
    "            return data\n",
    "        else:\n",
    "            return None\n",
    "    else:\n",
    "        return None"
   ]
  },
  {
   "cell_type": "code",
   "execution_count": 8,
   "id": "d6a05fb0-55d7-47b7-b4e8-b18a9dee6a3c",
   "metadata": {},
   "outputs": [],
   "source": [
    "def get_news_data():\n",
    "    top_headlines = newsapi.get_top_headlines(sources='bbc-news')\n",
    "    article_titles = [article['title'] for article in top_headlines['articles'][:10]]        \n",
    "    random_title = random.choice(article_titles)\n",
    "    return random_title\n"
   ]
  },
  {
   "cell_type": "code",
   "execution_count": 9,
   "id": "5a88ad65-cd27-4a24-ad95-040c3d594f75",
   "metadata": {},
   "outputs": [],
   "source": [
    "def handle_task(user_input, api_key, city_id):\n",
    "    if re.search(r'\\bweather\\b', user_input):\n",
    "        data = get_weather_data(api_key, city_id)\n",
    "        if data:\n",
    "            description = data['weather'][0]['description']\n",
    "            temp = data['main']['temp']\n",
    "            return f\"Weather in Anand: {description}, Temperature: {temp}°C\"\n",
    "        else:\n",
    "            return \"Failed to fetch weather data.\"\n",
    "        \n",
    "    elif re.search(r'\\bnews\\b', user_input):\n",
    "        return get_news_data()\n",
    "\n",
    "\n",
    "    elif re.search(r'\\bhow are you\\b', user_input):\n",
    "        return \"how are you\"\n",
    "\n",
    "    elif re.search(r'\\bhi\\b', user_input):\n",
    "        return \"hi\"\n",
    "    \n",
    "    elif re.search(r'\\bhello\\b', user_input):\n",
    "        return \"hello\"\n",
    "    \n",
    "    elif re.search(r'\\bbye\\b', user_input):\n",
    "        return \"bye\"\n",
    "    \n",
    "    else:\n",
    "        return None\n",
    "\n"
   ]
  },
  {
   "cell_type": "code",
   "execution_count": 10,
   "id": "e22207e6-1f40-4be7-8995-3ddba89bafd2",
   "metadata": {},
   "outputs": [
    {
     "name": "stdout",
     "output_type": "stream",
     "text": [
      "Chatbot: How can I help you!\n"
     ]
    },
    {
     "name": "stdin",
     "output_type": "stream",
     "text": [
      "You:  hi \n"
     ]
    },
    {
     "name": "stdout",
     "output_type": "stream",
     "text": [
      "Chatbot: Hello there!\n"
     ]
    },
    {
     "name": "stdin",
     "output_type": "stream",
     "text": [
      "You:  how are you\n"
     ]
    },
    {
     "name": "stdout",
     "output_type": "stream",
     "text": [
      "Chatbot: I'm doing fine!\n"
     ]
    },
    {
     "name": "stdin",
     "output_type": "stream",
     "text": [
      "You:  weather update\n"
     ]
    },
    {
     "name": "stdout",
     "output_type": "stream",
     "text": [
      "Chatbot: Weather in Anand: overcast clouds, Temperature: 29.99°C\n"
     ]
    },
    {
     "name": "stdin",
     "output_type": "stream",
     "text": [
      "You:  give me some news\n"
     ]
    },
    {
     "name": "stdout",
     "output_type": "stream",
     "text": [
      "Chatbot: Who is Usha Vance?\n"
     ]
    },
    {
     "name": "stdin",
     "output_type": "stream",
     "text": [
      "You:  give me some news\n"
     ]
    },
    {
     "name": "stdout",
     "output_type": "stream",
     "text": [
      "Chatbot: Rayner dismisses US VP candidate's 'Islamist UK' claim\n"
     ]
    },
    {
     "name": "stdin",
     "output_type": "stream",
     "text": [
      "You:  give me some news\n"
     ]
    },
    {
     "name": "stdout",
     "output_type": "stream",
     "text": [
      "Chatbot: Senior North Korean diplomat defects to South\n"
     ]
    },
    {
     "name": "stdin",
     "output_type": "stream",
     "text": [
      "You:  ok bye\n"
     ]
    },
    {
     "name": "stdout",
     "output_type": "stream",
     "text": [
      "Chatbot: See you soon!\n"
     ]
    }
   ],
   "source": [
    "print(\"Chatbot: How can I help you!\")\n",
    "\n",
    "while True:\n",
    "    user_input = input(\"You: \").lower()\n",
    "    task = handle_task(user_input, api_key, city_id)\n",
    "\n",
    "    if task in responses:\n",
    "        print(f\"Chatbot: {responses[task]}\")\n",
    "    elif task:\n",
    "        print(f\"Chatbot: {task}\")\n",
    "    else:\n",
    "        print(\"Chatbot: I don't understand.\")\n",
    "    \n",
    "    if task == \"bye\":\n",
    "        break\n"
   ]
  },
  {
   "cell_type": "code",
   "execution_count": null,
   "id": "5a9c3747-8036-44ce-9302-4756e736f30c",
   "metadata": {},
   "outputs": [],
   "source": []
  },
  {
   "cell_type": "code",
   "execution_count": null,
   "id": "fcce3422-8291-4228-a100-c4a8db9c7555",
   "metadata": {},
   "outputs": [],
   "source": []
  },
  {
   "cell_type": "code",
   "execution_count": null,
   "id": "5939b521-8e3d-469f-9732-48bd55eb5933",
   "metadata": {},
   "outputs": [],
   "source": []
  },
  {
   "cell_type": "code",
   "execution_count": null,
   "id": "7f024e5b-311f-47cb-ba06-780faf0d40bc",
   "metadata": {},
   "outputs": [],
   "source": []
  },
  {
   "cell_type": "code",
   "execution_count": null,
   "id": "ee9dfa67-d019-474b-affb-ed9724a9872d",
   "metadata": {},
   "outputs": [],
   "source": []
  },
  {
   "cell_type": "code",
   "execution_count": null,
   "id": "5a4810dc-ea0c-43e0-8fe0-fb5d8d31b533",
   "metadata": {},
   "outputs": [],
   "source": []
  },
  {
   "cell_type": "code",
   "execution_count": null,
   "id": "02930cc8-a97b-43d1-8077-027083b25389",
   "metadata": {},
   "outputs": [],
   "source": []
  },
  {
   "cell_type": "code",
   "execution_count": null,
   "id": "df9d0e95-c785-479a-b598-f14c0857cafe",
   "metadata": {},
   "outputs": [],
   "source": []
  },
  {
   "cell_type": "code",
   "execution_count": null,
   "id": "dbb5c114-088a-4afc-b778-df5baae2efe0",
   "metadata": {},
   "outputs": [],
   "source": []
  }
 ],
 "metadata": {
  "kernelspec": {
   "display_name": "Python 3 (ipykernel)",
   "language": "python",
   "name": "python3"
  },
  "language_info": {
   "codemirror_mode": {
    "name": "ipython",
    "version": 3
   },
   "file_extension": ".py",
   "mimetype": "text/x-python",
   "name": "python",
   "nbconvert_exporter": "python",
   "pygments_lexer": "ipython3",
   "version": "3.11.7"
  }
 },
 "nbformat": 4,
 "nbformat_minor": 5
}
