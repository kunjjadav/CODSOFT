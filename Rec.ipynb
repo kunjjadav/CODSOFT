{
 "cells": [
  {
   "cell_type": "code",
   "execution_count": 1,
   "id": "34f2fe92-8a92-4b1f-8885-3103ac8c0548",
   "metadata": {},
   "outputs": [],
   "source": [
    "import pandas as pd\n",
    "from sklearn.feature_extraction.text import TfidfVectorizer\n",
    "from sklearn.metrics.pairwise import cosine_similarity\n"
   ]
  },
  {
   "cell_type": "code",
   "execution_count": 2,
   "id": "f18bb909-9fef-48b0-b406-dc911aca42e7",
   "metadata": {},
   "outputs": [],
   "source": [
    "movies_df = pd.read_csv('tmdb_5000_movies.csv')\n",
    "movies_df['overview'] = movies_df['overview'].fillna('')\n",
    "movies_df['genres'] = movies_df['genres'].fillna('')\n",
    "\n",
    "def combine_features(row):\n",
    "    return row['overview'] + ' ' + ' '.join([genre['name'] for genre in eval(row['genres'])])\n",
    "\n",
    "movies_df['combined_features'] = movies_df.apply(combine_features, axis=1)\n"
   ]
  },
  {
   "cell_type": "code",
   "execution_count": 3,
   "id": "f844e2a2-39da-43ef-bd20-c424d07096dd",
   "metadata": {},
   "outputs": [],
   "source": [
    "tfidf = TfidfVectorizer(stop_words='english')\n",
    "\n",
    "tfidf_matrix = tfidf.fit_transform(movies_df['combined_features'])"
   ]
  },
  {
   "cell_type": "code",
   "execution_count": 4,
   "id": "00d4194f-3e5f-4dc6-8118-27ef492df490",
   "metadata": {},
   "outputs": [],
   "source": [
    "cosine_sim = cosine_similarity(tfidf_matrix, tfidf_matrix)"
   ]
  },
  {
   "cell_type": "code",
   "execution_count": 5,
   "id": "cdf34358-7b36-4d61-9f79-345b622a52ee",
   "metadata": {},
   "outputs": [],
   "source": [
    "def get_recommendations(movie_list, cosine_sim=cosine_sim):\n",
    "    indices = [movies_df[movies_df['title'] == title].index[0] for title in movie_list if title in movies_df['title'].values]\n",
    "    sim_scores = sum(cosine_sim[idx] for idx in indices) / len(indices)\n",
    "    sim_scores = list(enumerate(sim_scores))\n",
    "    sim_scores = sorted(sim_scores, key=lambda x: x[1], reverse=True)\n",
    "    sim_scores = sim_scores[1:11]\n",
    "    movie_indices = [i[0] for i in sim_scores]\n",
    "    return movies_df['title'].iloc[movie_indices]\n"
   ]
  },
  {
   "cell_type": "code",
   "execution_count": 6,
   "id": "0b4d19c4-4347-4c2a-a4c9-95362fe98097",
   "metadata": {},
   "outputs": [
    {
     "name": "stdin",
     "output_type": "stream",
     "text": [
      "Enter the movies you have seen, separated by commas:  Avatar\n"
     ]
    },
    {
     "name": "stdout",
     "output_type": "stream",
     "text": [
      "Recommendations for you:\n",
      "3604                       Apollo 18\n",
      "4401             The Helix... Loaded\n",
      "634                       The Matrix\n",
      "2130                    The American\n",
      "1341            The Inhabited Island\n",
      "529                 Tears of the Sun\n",
      "311     The Adventures of Pluto Nash\n",
      "942                 The Book of Life\n",
      "1610                           Hanna\n",
      "2628             Blood and Chocolate\n",
      "Name: title, dtype: object\n"
     ]
    }
   ],
   "source": [
    "user_input = input(\"Enter the movies you have seen, separated by commas: \")\n",
    "user_movies = [movie.strip() for movie in user_input.split(',')]\n",
    "\n",
    "# recommendations\n",
    "recommended_movies = get_recommendations(user_movies)\n",
    "\n",
    "# Display recommendation\n",
    "print(\"Recommendations for you:\")\n",
    "print(recommended_movies)"
   ]
  },
  {
   "cell_type": "code",
   "execution_count": null,
   "id": "447c50d4-6299-4022-81eb-821291d3a8b9",
   "metadata": {},
   "outputs": [],
   "source": []
  }
 ],
 "metadata": {
  "kernelspec": {
   "display_name": "Python 3 (ipykernel)",
   "language": "python",
   "name": "python3"
  },
  "language_info": {
   "codemirror_mode": {
    "name": "ipython",
    "version": 3
   },
   "file_extension": ".py",
   "mimetype": "text/x-python",
   "name": "python",
   "nbconvert_exporter": "python",
   "pygments_lexer": "ipython3",
   "version": "3.11.7"
  }
 },
 "nbformat": 4,
 "nbformat_minor": 5
}
