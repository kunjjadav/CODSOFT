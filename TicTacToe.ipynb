{
 "cells": [
  {
   "cell_type": "code",
   "execution_count": 1,
   "id": "3ba04b3c-f669-4048-acad-8cfc75732418",
   "metadata": {},
   "outputs": [],
   "source": [
    "def print_board(board):\n",
    "    for row in board:\n",
    "        print(\"|\".join(row))\n",
    "        print(\"-\" * 5)\n"
   ]
  },
  {
   "cell_type": "code",
   "execution_count": 2,
   "id": "62f34e85-8ff1-4fea-83f4-440930bbff8d",
   "metadata": {},
   "outputs": [],
   "source": [
    "def initialize_board():\n",
    "    return [[\" \" for _ in range(3)] for _ in range(3)]\n"
   ]
  },
  {
   "cell_type": "code",
   "execution_count": 3,
   "id": "034c8698-955a-477d-aba2-973f972338c3",
   "metadata": {},
   "outputs": [],
   "source": [
    "def check_win(board):\n",
    "    for i in range(3):\n",
    "        if board[i][0] == board[i][1] == board[i][2] != \" \":\n",
    "            return board[i][0]\n",
    "        if board[0][i] == board[1][i] == board[2][i] != \" \":\n",
    "            return board[0][i]\n",
    "    if board[0][0] == board[1][1] == board[2][2] != \" \":\n",
    "        return board[0][0]\n",
    "    if board[0][2] == board[1][1] == board[2][0] != \" \":\n",
    "        return board[0][2]\n",
    "    if all(board[i][j] != \" \" for i in range(3) for j in range(3)):\n",
    "        return \"tie\"\n",
    "    return None"
   ]
  },
  {
   "cell_type": "code",
   "execution_count": 4,
   "id": "1419f62b-27fd-4e8e-bde5-e4ed8ffcb2e5",
   "metadata": {},
   "outputs": [],
   "source": [
    "def minimax(board, depth, alpha, beta, is_maximizing):\n",
    "    scores = {\"X\": 10, \"O\": -10, \"tie\": 0}\n",
    "    result = check_win(board)\n",
    "    if result is not None:\n",
    "        return scores[result]\n",
    "\n",
    "    if is_maximizing:\n",
    "        best_score = -float(\"inf\")\n",
    "        for i in range(3):\n",
    "            for j in range(3):\n",
    "                if board[i][j] == \" \":\n",
    "                    board[i][j] = \"X\"\n",
    "                    score = minimax(board, depth + 1, alpha, beta, False)\n",
    "                    board[i][j] = \" \"\n",
    "                    best_score = max(score, best_score)\n",
    "                    alpha = max(alpha, score)\n",
    "                    if beta <= alpha:\n",
    "                        break\n",
    "        return best_score\n",
    "    else:\n",
    "        best_score = float(\"inf\")\n",
    "        for i in range(3):\n",
    "            for j in range(3):\n",
    "                if board[i][j] == \" \":\n",
    "                    board[i][j] = \"O\"\n",
    "                    score = minimax(board, depth + 1, alpha, beta, True)\n",
    "                    board[i][j] = \" \"\n",
    "                    best_score = min(score, best_score)\n",
    "                    beta = min(beta, score)\n",
    "                    if beta <= alpha:\n",
    "                        break\n",
    "        return best_score\n"
   ]
  },
  {
   "cell_type": "code",
   "execution_count": 5,
   "id": "0c75a016-1f1b-4e65-a2bf-1b89a2b823ec",
   "metadata": {},
   "outputs": [],
   "source": [
    "def find_best_move(board):\n",
    "    best_move = None\n",
    "    best_score = -float(\"inf\")\n",
    "    for i in range(3):\n",
    "        for j in range(3):\n",
    "            if board[i][j] == \" \":\n",
    "                board[i][j] = \"X\"\n",
    "                score = minimax(board, 0, -float(\"inf\"), float(\"inf\"), False)\n",
    "                board[i][j] = \" \"\n",
    "                if score > best_score:\n",
    "                    best_score = score\n",
    "                    best_move = (i, j)\n",
    "    return best_move"
   ]
  },
  {
   "cell_type": "code",
   "execution_count": null,
   "id": "a867a1fe-8bcf-4f35-bcd4-2be045a408e6",
   "metadata": {},
   "outputs": [],
   "source": []
  },
  {
   "cell_type": "code",
   "execution_count": 6,
   "id": "33fe4ccb-b709-4eac-93e0-84c5c97a338e",
   "metadata": {},
   "outputs": [
    {
     "name": "stdout",
     "output_type": "stream",
     "text": [
      " | | \n",
      "-----\n",
      " | | \n",
      "-----\n",
      " | | \n",
      "-----\n"
     ]
    },
    {
     "name": "stdin",
     "output_type": "stream",
     "text": [
      "Enter the row (0, 1, or 2):  0\n",
      "Enter the column (0, 1, or 2):  1\n"
     ]
    },
    {
     "name": "stdout",
     "output_type": "stream",
     "text": [
      " |O| \n",
      "-----\n",
      " | | \n",
      "-----\n",
      " | | \n",
      "-----\n",
      "X|O| \n",
      "-----\n",
      " | | \n",
      "-----\n",
      " | | \n",
      "-----\n"
     ]
    },
    {
     "name": "stdin",
     "output_type": "stream",
     "text": [
      "Enter the row (0, 1, or 2):  1\n",
      "Enter the column (0, 1, or 2):  1\n"
     ]
    },
    {
     "name": "stdout",
     "output_type": "stream",
     "text": [
      "X|O| \n",
      "-----\n",
      " |O| \n",
      "-----\n",
      " | | \n",
      "-----\n",
      "X|O| \n",
      "-----\n",
      " |O| \n",
      "-----\n",
      " |X| \n",
      "-----\n"
     ]
    },
    {
     "name": "stdin",
     "output_type": "stream",
     "text": [
      "Enter the row (0, 1, or 2):  1\n",
      "Enter the column (0, 1, or 2):  0\n"
     ]
    },
    {
     "name": "stdout",
     "output_type": "stream",
     "text": [
      "X|O| \n",
      "-----\n",
      "O|O| \n",
      "-----\n",
      " |X| \n",
      "-----\n",
      "X|O| \n",
      "-----\n",
      "O|O|X\n",
      "-----\n",
      " |X| \n",
      "-----\n"
     ]
    },
    {
     "name": "stdin",
     "output_type": "stream",
     "text": [
      "Enter the row (0, 1, or 2):  2\n",
      "Enter the column (0, 1, or 2):  0\n"
     ]
    },
    {
     "name": "stdout",
     "output_type": "stream",
     "text": [
      "X|O| \n",
      "-----\n",
      "O|O|X\n",
      "-----\n",
      "O|X| \n",
      "-----\n",
      "X|O|X\n",
      "-----\n",
      "O|O|X\n",
      "-----\n",
      "O|X| \n",
      "-----\n"
     ]
    },
    {
     "name": "stdin",
     "output_type": "stream",
     "text": [
      "Enter the row (0, 1, or 2):  2\n",
      "Enter the column (0, 1, or 2):  2\n"
     ]
    },
    {
     "name": "stdout",
     "output_type": "stream",
     "text": [
      "X|O|X\n",
      "-----\n",
      "O|O|X\n",
      "-----\n",
      "O|X|O\n",
      "-----\n",
      "It's a tie!\n"
     ]
    }
   ],
   "source": [
    "def play_game():\n",
    "    board = initialize_board()\n",
    "    human = \"O\"\n",
    "    ai = \"X\"\n",
    "    current_player = human\n",
    "\n",
    "    while True:\n",
    "        print_board(board)\n",
    "        result = check_win(board)\n",
    "        if result is not None:\n",
    "            if result == \"tie\":\n",
    "                print(\"It's a tie!\")\n",
    "            else:\n",
    "                print(f\"Player {result} wins!\")\n",
    "            break\n",
    "\n",
    "        if current_player == human:\n",
    "            while True:\n",
    "                try:\n",
    "                    row = int(input(\"Enter the row (0, 1, or 2): \"))\n",
    "                    col = int(input(\"Enter the column (0, 1, or 2): \"))\n",
    "                    if board[row][col] == \" \":\n",
    "                        board[row][col] = human\n",
    "                        break\n",
    "                    else:\n",
    "                        print(\"Cell is already occupied. Try again.\")\n",
    "                except (IndexError, ValueError):\n",
    "                    print(\"Invalid input. Please enter numbers between 0 and 2.\")\n",
    "        else:\n",
    "            move = find_best_move(board)\n",
    "            if move is not None:\n",
    "                board[move[0]][move[1]] = ai\n",
    "\n",
    "        current_player = human if current_player == ai else ai\n",
    "\n",
    "play_game()\n"
   ]
  },
  {
   "cell_type": "code",
   "execution_count": null,
   "id": "ab5b4ea4-ba0d-4fe4-b965-04109ea3bf2c",
   "metadata": {},
   "outputs": [],
   "source": []
  }
 ],
 "metadata": {
  "kernelspec": {
   "display_name": "Python 3 (ipykernel)",
   "language": "python",
   "name": "python3"
  },
  "language_info": {
   "codemirror_mode": {
    "name": "ipython",
    "version": 3
   },
   "file_extension": ".py",
   "mimetype": "text/x-python",
   "name": "python",
   "nbconvert_exporter": "python",
   "pygments_lexer": "ipython3",
   "version": "3.11.7"
  }
 },
 "nbformat": 4,
 "nbformat_minor": 5
}
